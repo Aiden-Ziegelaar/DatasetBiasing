{
 "cells": [
  {
   "cell_type": "markdown",
   "source": [
    "# AFL Game Outcome Predictor Training\n",
    "Heavily adapted from:\n",
    "https://www.tensorflow.org/tutorials/structured_data/feature_columns"
   ],
   "metadata": {
    "collapsed": false
   }
  },
  {
   "cell_type": "markdown",
   "source": [
    "### Import Libraries and Setup"
   ],
   "metadata": {
    "collapsed": false,
    "pycharm": {
     "name": "#%% md\n",
     "is_executing": true
    }
   }
  },
  {
   "cell_type": "code",
   "execution_count": 205,
   "outputs": [],
   "source": [
    "import numpy as np\n",
    "import pandas as pd\n",
    "\n",
    "import tensorflow as tf\n",
    "\n",
    "from tensorflow import feature_column\n",
    "from tensorflow.keras import layers\n",
    "\n",
    "from sklearn.model_selection import train_test_split\n",
    "\n",
    "# A utility method to create a tf.data dataset from a Pandas Dataframe\n",
    "def df_to_dataset(dataframe, shuffle=True, batch_size=32):\n",
    "  dataframe = dataframe.copy()\n",
    "  labels = dataframe.pop('target')\n",
    "  ds = tf.data.Dataset.from_tensor_slices((dict(dataframe), labels))\n",
    "  if shuffle:\n",
    "    ds = ds.shuffle(buffer_size=len(dataframe))\n",
    "  ds = ds.batch(batch_size)\n",
    "  return ds"
   ],
   "metadata": {
    "collapsed": false,
    "pycharm": {
     "name": "#%%\n"
    }
   }
  },
  {
   "cell_type": "markdown",
   "source": [
    "### Load Data"
   ],
   "metadata": {
    "collapsed": false
   }
  },
  {
   "cell_type": "code",
   "execution_count": 206,
   "outputs": [],
   "source": [
    "csv_file = '../data/BankChurners_sanitized.csv'\n",
    "\n",
    "dataframe = pd.read_csv(csv_file)\n",
    "\n",
    "dataframe['target'] = np.where(dataframe['Attrition_Flag']=='Attrited Customer', 1, 0)\n",
    "\n",
    "attrited_customers = dataframe[dataframe['Attrition_Flag']=='Attrited Customer']\n",
    "\n",
    "existing_customers = dataframe[dataframe['Attrition_Flag']=='Existing Customer']\n",
    "\n",
    "# lets make a dataset that is biased towards Attrited Customers\n",
    "# We'd prefer to incorrectly identify a customer as attrited than an attrited customer as existing.\n",
    "\n",
    "existing_customers = existing_customers.sample(round(len(attrited_customers)*0.8))\n",
    "\n",
    "merged_dataframe = pd.concat([attrited_customers, existing_customers])\n",
    "\n",
    "dataframe = dataframe.drop(columns=['Attrition_Flag'])\n",
    "\n",
    "biased_dataframe = merged_dataframe.drop(columns=['Attrition_Flag'])"
   ],
   "metadata": {
    "collapsed": false,
    "pycharm": {
     "name": "#%%\n"
    }
   }
  },
  {
   "cell_type": "markdown",
   "source": [
    "### Create and Train Models"
   ],
   "metadata": {
    "collapsed": false,
    "pycharm": {
     "name": "#%% md\n"
    }
   }
  },
  {
   "cell_type": "code",
   "execution_count": 207,
   "outputs": [
    {
     "name": "stdout",
     "output_type": "stream",
     "text": [
      "6480 train examples\n",
      "1621 validation examples\n",
      "2026 test examples\n"
     ]
    }
   ],
   "source": [
    "train, test = train_test_split(dataframe, test_size=0.2)\n",
    "train, val = train_test_split(train, test_size=0.2)\n",
    "\n",
    "train_biased, test_biased = train_test_split(biased_dataframe, test_size=0.2)\n",
    "train_biased, val_biased = train_test_split(biased_dataframe, test_size=0.2)\n",
    "\n",
    "print(len(train), 'train examples')\n",
    "print(len(val), 'validation examples')\n",
    "print(len(test), 'test examples')"
   ],
   "metadata": {
    "collapsed": false,
    "pycharm": {
     "name": "#%%\n"
    }
   }
  },
  {
   "cell_type": "code",
   "execution_count": 208,
   "outputs": [],
   "source": [
    "feature_columns = []\n",
    "for header in ['Customer_Age',\n",
    "    'Dependent_count',\n",
    "    'Months_on_book',\n",
    "    'Total_Relationship_Count',\n",
    "    'Months_Inactive_12_mon',\n",
    "    'Contacts_Count_12_mon',\n",
    "    'Credit_Limit',\n",
    "    'Total_Revolving_Bal',\n",
    "    'Avg_Open_To_Buy',\n",
    "    'Total_Amt_Chng_Q4_Q1',\n",
    "    'Total_Trans_Amt',\n",
    "    'Total_Trans_Ct',\n",
    "    'Total_Ct_Chng_Q4_Q1',\n",
    "    'Avg_Utilization_Ratio'\n",
    "]:\n",
    "    feature_columns.append(feature_column.numeric_column(header))\n",
    "\n",
    "for header in ['Gender', 'Education_Level', 'Marital_Status', 'Income_Category', 'Card_Category']:\n",
    "    categorical_column = feature_column.categorical_column_with_vocabulary_list(\n",
    "        header, dataframe[header].unique())\n",
    "    indicator_column = feature_column.indicator_column(categorical_column)\n",
    "    feature_columns.append(indicator_column)"
   ],
   "metadata": {
    "collapsed": false,
    "pycharm": {
     "name": "#%%\n"
    }
   }
  },
  {
   "cell_type": "code",
   "execution_count": 209,
   "outputs": [],
   "source": [
    "feature_layer = tf.keras.layers.DenseFeatures(feature_columns)\n",
    "\n",
    "batch_size = 2048\n",
    "train_ds = df_to_dataset(train, batch_size=batch_size)\n",
    "val_ds = df_to_dataset(val, shuffle=False, batch_size=batch_size)\n",
    "test_ds = df_to_dataset(test, shuffle=False, batch_size=batch_size)\n",
    "\n",
    "train_biased_ds = df_to_dataset(train_biased, batch_size=batch_size)\n",
    "val_biased_ds = df_to_dataset(val_biased, shuffle=False, batch_size=batch_size)\n",
    "\n",
    "attrited_customers_ds = df_to_dataset(attrited_customers, shuffle=False, batch_size=len(attrited_customers))\n"
   ],
   "metadata": {
    "collapsed": false,
    "pycharm": {
     "name": "#%%\n"
    }
   }
  },
  {
   "cell_type": "code",
   "execution_count": 210,
   "outputs": [
    {
     "name": "stdout",
     "output_type": "stream",
     "text": [
      "WARNING:tensorflow:Layers in a Sequential model should only have a single input tensor, but we receive a <class 'dict'> input: {'Customer_Age': <tf.Tensor 'ExpandDims_5:0' shape=(None, 1) dtype=int64>, 'Gender': <tf.Tensor 'ExpandDims_8:0' shape=(None, 1) dtype=string>, 'Dependent_count': <tf.Tensor 'ExpandDims_6:0' shape=(None, 1) dtype=int64>, 'Education_Level': <tf.Tensor 'ExpandDims_7:0' shape=(None, 1) dtype=string>, 'Marital_Status': <tf.Tensor 'ExpandDims_10:0' shape=(None, 1) dtype=string>, 'Income_Category': <tf.Tensor 'ExpandDims_9:0' shape=(None, 1) dtype=string>, 'Card_Category': <tf.Tensor 'ExpandDims_2:0' shape=(None, 1) dtype=string>, 'Months_on_book': <tf.Tensor 'ExpandDims_12:0' shape=(None, 1) dtype=int64>, 'Total_Relationship_Count': <tf.Tensor 'ExpandDims_15:0' shape=(None, 1) dtype=int64>, 'Months_Inactive_12_mon': <tf.Tensor 'ExpandDims_11:0' shape=(None, 1) dtype=int64>, 'Contacts_Count_12_mon': <tf.Tensor 'ExpandDims_3:0' shape=(None, 1) dtype=int64>, 'Credit_Limit': <tf.Tensor 'ExpandDims_4:0' shape=(None, 1) dtype=float64>, 'Total_Revolving_Bal': <tf.Tensor 'ExpandDims_16:0' shape=(None, 1) dtype=int64>, 'Avg_Open_To_Buy': <tf.Tensor 'ExpandDims:0' shape=(None, 1) dtype=float64>, 'Total_Amt_Chng_Q4_Q1': <tf.Tensor 'ExpandDims_13:0' shape=(None, 1) dtype=float64>, 'Total_Trans_Amt': <tf.Tensor 'ExpandDims_17:0' shape=(None, 1) dtype=int64>, 'Total_Trans_Ct': <tf.Tensor 'ExpandDims_18:0' shape=(None, 1) dtype=int64>, 'Total_Ct_Chng_Q4_Q1': <tf.Tensor 'ExpandDims_14:0' shape=(None, 1) dtype=float64>, 'Avg_Utilization_Ratio': <tf.Tensor 'ExpandDims_1:0' shape=(None, 1) dtype=float64>}\n",
      "Consider rewriting this model with the Functional API.\n",
      "WARNING:tensorflow:Layer dense_features_23 is casting an input tensor from dtype float64 to the layer's dtype of float32, which is new behavior in TensorFlow 2.  The layer has dtype float32 because its dtype defaults to floatx.\n",
      "\n",
      "If you intended to run this layer in float32, you can safely ignore this warning. If in doubt, this warning is likely only an issue if you are porting a TensorFlow 1.X model to TensorFlow 2.\n",
      "\n",
      "To change all layers to have dtype float64 by default, call `tf.keras.backend.set_floatx('float64')`. To change just this layer, pass dtype='float64' to the layer constructor. If you are the author of this layer, you can disable autocasting by passing autocast=False to the base Layer constructor.\n",
      "\n",
      "WARNING:tensorflow:Layers in a Sequential model should only have a single input tensor, but we receive a <class 'dict'> input: {'Customer_Age': <tf.Tensor 'ExpandDims_5:0' shape=(None, 1) dtype=int64>, 'Gender': <tf.Tensor 'ExpandDims_8:0' shape=(None, 1) dtype=string>, 'Dependent_count': <tf.Tensor 'ExpandDims_6:0' shape=(None, 1) dtype=int64>, 'Education_Level': <tf.Tensor 'ExpandDims_7:0' shape=(None, 1) dtype=string>, 'Marital_Status': <tf.Tensor 'ExpandDims_10:0' shape=(None, 1) dtype=string>, 'Income_Category': <tf.Tensor 'ExpandDims_9:0' shape=(None, 1) dtype=string>, 'Card_Category': <tf.Tensor 'ExpandDims_2:0' shape=(None, 1) dtype=string>, 'Months_on_book': <tf.Tensor 'ExpandDims_12:0' shape=(None, 1) dtype=int64>, 'Total_Relationship_Count': <tf.Tensor 'ExpandDims_15:0' shape=(None, 1) dtype=int64>, 'Months_Inactive_12_mon': <tf.Tensor 'ExpandDims_11:0' shape=(None, 1) dtype=int64>, 'Contacts_Count_12_mon': <tf.Tensor 'ExpandDims_3:0' shape=(None, 1) dtype=int64>, 'Credit_Limit': <tf.Tensor 'ExpandDims_4:0' shape=(None, 1) dtype=float64>, 'Total_Revolving_Bal': <tf.Tensor 'ExpandDims_16:0' shape=(None, 1) dtype=int64>, 'Avg_Open_To_Buy': <tf.Tensor 'ExpandDims:0' shape=(None, 1) dtype=float64>, 'Total_Amt_Chng_Q4_Q1': <tf.Tensor 'ExpandDims_13:0' shape=(None, 1) dtype=float64>, 'Total_Trans_Amt': <tf.Tensor 'ExpandDims_17:0' shape=(None, 1) dtype=int64>, 'Total_Trans_Ct': <tf.Tensor 'ExpandDims_18:0' shape=(None, 1) dtype=int64>, 'Total_Ct_Chng_Q4_Q1': <tf.Tensor 'ExpandDims_14:0' shape=(None, 1) dtype=float64>, 'Avg_Utilization_Ratio': <tf.Tensor 'ExpandDims_1:0' shape=(None, 1) dtype=float64>}\n",
      "Consider rewriting this model with the Functional API.\n",
      "WARNING:tensorflow:Layers in a Sequential model should only have a single input tensor, but we receive a <class 'dict'> input: {'Customer_Age': <tf.Tensor 'ExpandDims_5:0' shape=(None, 1) dtype=int64>, 'Gender': <tf.Tensor 'ExpandDims_8:0' shape=(None, 1) dtype=string>, 'Dependent_count': <tf.Tensor 'ExpandDims_6:0' shape=(None, 1) dtype=int64>, 'Education_Level': <tf.Tensor 'ExpandDims_7:0' shape=(None, 1) dtype=string>, 'Marital_Status': <tf.Tensor 'ExpandDims_10:0' shape=(None, 1) dtype=string>, 'Income_Category': <tf.Tensor 'ExpandDims_9:0' shape=(None, 1) dtype=string>, 'Card_Category': <tf.Tensor 'ExpandDims_2:0' shape=(None, 1) dtype=string>, 'Months_on_book': <tf.Tensor 'ExpandDims_12:0' shape=(None, 1) dtype=int64>, 'Total_Relationship_Count': <tf.Tensor 'ExpandDims_15:0' shape=(None, 1) dtype=int64>, 'Months_Inactive_12_mon': <tf.Tensor 'ExpandDims_11:0' shape=(None, 1) dtype=int64>, 'Contacts_Count_12_mon': <tf.Tensor 'ExpandDims_3:0' shape=(None, 1) dtype=int64>, 'Credit_Limit': <tf.Tensor 'ExpandDims_4:0' shape=(None, 1) dtype=float64>, 'Total_Revolving_Bal': <tf.Tensor 'ExpandDims_16:0' shape=(None, 1) dtype=int64>, 'Avg_Open_To_Buy': <tf.Tensor 'ExpandDims:0' shape=(None, 1) dtype=float64>, 'Total_Amt_Chng_Q4_Q1': <tf.Tensor 'ExpandDims_13:0' shape=(None, 1) dtype=float64>, 'Total_Trans_Amt': <tf.Tensor 'ExpandDims_17:0' shape=(None, 1) dtype=int64>, 'Total_Trans_Ct': <tf.Tensor 'ExpandDims_18:0' shape=(None, 1) dtype=int64>, 'Total_Ct_Chng_Q4_Q1': <tf.Tensor 'ExpandDims_14:0' shape=(None, 1) dtype=float64>, 'Avg_Utilization_Ratio': <tf.Tensor 'ExpandDims_1:0' shape=(None, 1) dtype=float64>}\n",
      "Consider rewriting this model with the Functional API.\n",
      "WARNING:tensorflow:Layers in a Sequential model should only have a single input tensor, but we receive a <class 'dict'> input: {'Customer_Age': <tf.Tensor 'ExpandDims_5:0' shape=(None, 1) dtype=int64>, 'Gender': <tf.Tensor 'ExpandDims_8:0' shape=(None, 1) dtype=string>, 'Dependent_count': <tf.Tensor 'ExpandDims_6:0' shape=(None, 1) dtype=int64>, 'Education_Level': <tf.Tensor 'ExpandDims_7:0' shape=(None, 1) dtype=string>, 'Marital_Status': <tf.Tensor 'ExpandDims_10:0' shape=(None, 1) dtype=string>, 'Income_Category': <tf.Tensor 'ExpandDims_9:0' shape=(None, 1) dtype=string>, 'Card_Category': <tf.Tensor 'ExpandDims_2:0' shape=(None, 1) dtype=string>, 'Months_on_book': <tf.Tensor 'ExpandDims_12:0' shape=(None, 1) dtype=int64>, 'Total_Relationship_Count': <tf.Tensor 'ExpandDims_15:0' shape=(None, 1) dtype=int64>, 'Months_Inactive_12_mon': <tf.Tensor 'ExpandDims_11:0' shape=(None, 1) dtype=int64>, 'Contacts_Count_12_mon': <tf.Tensor 'ExpandDims_3:0' shape=(None, 1) dtype=int64>, 'Credit_Limit': <tf.Tensor 'ExpandDims_4:0' shape=(None, 1) dtype=float64>, 'Total_Revolving_Bal': <tf.Tensor 'ExpandDims_16:0' shape=(None, 1) dtype=int64>, 'Avg_Open_To_Buy': <tf.Tensor 'ExpandDims:0' shape=(None, 1) dtype=float64>, 'Total_Amt_Chng_Q4_Q1': <tf.Tensor 'ExpandDims_13:0' shape=(None, 1) dtype=float64>, 'Total_Trans_Amt': <tf.Tensor 'ExpandDims_17:0' shape=(None, 1) dtype=int64>, 'Total_Trans_Ct': <tf.Tensor 'ExpandDims_18:0' shape=(None, 1) dtype=int64>, 'Total_Ct_Chng_Q4_Q1': <tf.Tensor 'ExpandDims_14:0' shape=(None, 1) dtype=float64>, 'Avg_Utilization_Ratio': <tf.Tensor 'ExpandDims_1:0' shape=(None, 1) dtype=float64>}\n",
      "Consider rewriting this model with the Functional API.\n",
      "WARNING:tensorflow:Layers in a Sequential model should only have a single input tensor, but we receive a <class 'dict'> input: {'Customer_Age': <tf.Tensor 'ExpandDims_5:0' shape=(None, 1) dtype=int64>, 'Gender': <tf.Tensor 'ExpandDims_8:0' shape=(None, 1) dtype=string>, 'Dependent_count': <tf.Tensor 'ExpandDims_6:0' shape=(None, 1) dtype=int64>, 'Education_Level': <tf.Tensor 'ExpandDims_7:0' shape=(None, 1) dtype=string>, 'Marital_Status': <tf.Tensor 'ExpandDims_10:0' shape=(None, 1) dtype=string>, 'Income_Category': <tf.Tensor 'ExpandDims_9:0' shape=(None, 1) dtype=string>, 'Card_Category': <tf.Tensor 'ExpandDims_2:0' shape=(None, 1) dtype=string>, 'Months_on_book': <tf.Tensor 'ExpandDims_12:0' shape=(None, 1) dtype=int64>, 'Total_Relationship_Count': <tf.Tensor 'ExpandDims_15:0' shape=(None, 1) dtype=int64>, 'Months_Inactive_12_mon': <tf.Tensor 'ExpandDims_11:0' shape=(None, 1) dtype=int64>, 'Contacts_Count_12_mon': <tf.Tensor 'ExpandDims_3:0' shape=(None, 1) dtype=int64>, 'Credit_Limit': <tf.Tensor 'ExpandDims_4:0' shape=(None, 1) dtype=float64>, 'Total_Revolving_Bal': <tf.Tensor 'ExpandDims_16:0' shape=(None, 1) dtype=int64>, 'Avg_Open_To_Buy': <tf.Tensor 'ExpandDims:0' shape=(None, 1) dtype=float64>, 'Total_Amt_Chng_Q4_Q1': <tf.Tensor 'ExpandDims_13:0' shape=(None, 1) dtype=float64>, 'Total_Trans_Amt': <tf.Tensor 'ExpandDims_17:0' shape=(None, 1) dtype=int64>, 'Total_Trans_Ct': <tf.Tensor 'ExpandDims_18:0' shape=(None, 1) dtype=int64>, 'Total_Ct_Chng_Q4_Q1': <tf.Tensor 'ExpandDims_14:0' shape=(None, 1) dtype=float64>, 'Avg_Utilization_Ratio': <tf.Tensor 'ExpandDims_1:0' shape=(None, 1) dtype=float64>}\n",
      "Consider rewriting this model with the Functional API.\n",
      "WARNING:tensorflow:Layers in a Sequential model should only have a single input tensor, but we receive a <class 'dict'> input: {'Customer_Age': <tf.Tensor 'ExpandDims_5:0' shape=(None, 1) dtype=int64>, 'Gender': <tf.Tensor 'ExpandDims_8:0' shape=(None, 1) dtype=string>, 'Dependent_count': <tf.Tensor 'ExpandDims_6:0' shape=(None, 1) dtype=int64>, 'Education_Level': <tf.Tensor 'ExpandDims_7:0' shape=(None, 1) dtype=string>, 'Marital_Status': <tf.Tensor 'ExpandDims_10:0' shape=(None, 1) dtype=string>, 'Income_Category': <tf.Tensor 'ExpandDims_9:0' shape=(None, 1) dtype=string>, 'Card_Category': <tf.Tensor 'ExpandDims_2:0' shape=(None, 1) dtype=string>, 'Months_on_book': <tf.Tensor 'ExpandDims_12:0' shape=(None, 1) dtype=int64>, 'Total_Relationship_Count': <tf.Tensor 'ExpandDims_15:0' shape=(None, 1) dtype=int64>, 'Months_Inactive_12_mon': <tf.Tensor 'ExpandDims_11:0' shape=(None, 1) dtype=int64>, 'Contacts_Count_12_mon': <tf.Tensor 'ExpandDims_3:0' shape=(None, 1) dtype=int64>, 'Credit_Limit': <tf.Tensor 'ExpandDims_4:0' shape=(None, 1) dtype=float64>, 'Total_Revolving_Bal': <tf.Tensor 'ExpandDims_16:0' shape=(None, 1) dtype=int64>, 'Avg_Open_To_Buy': <tf.Tensor 'ExpandDims:0' shape=(None, 1) dtype=float64>, 'Total_Amt_Chng_Q4_Q1': <tf.Tensor 'ExpandDims_13:0' shape=(None, 1) dtype=float64>, 'Total_Trans_Amt': <tf.Tensor 'ExpandDims_17:0' shape=(None, 1) dtype=int64>, 'Total_Trans_Ct': <tf.Tensor 'ExpandDims_18:0' shape=(None, 1) dtype=int64>, 'Total_Ct_Chng_Q4_Q1': <tf.Tensor 'ExpandDims_14:0' shape=(None, 1) dtype=float64>, 'Avg_Utilization_Ratio': <tf.Tensor 'ExpandDims_1:0' shape=(None, 1) dtype=float64>}\n",
      "Consider rewriting this model with the Functional API.\n"
     ]
    },
    {
     "data": {
      "text/plain": "<tensorflow.python.keras.callbacks.History at 0x157ab4c2af0>"
     },
     "execution_count": 210,
     "metadata": {},
     "output_type": "execute_result"
    }
   ],
   "source": [
    "model = tf.keras.Sequential([\n",
    "    feature_layer,\n",
    "    layers.Dense(256, activation='relu'),\n",
    "    layers.Dense(256, activation='relu'),\n",
    "    layers.Dense(256, activation='relu'),\n",
    "    layers.Dense(256, activation='relu'),\n",
    "    layers.Dropout(.1),\n",
    "    layers.Dense(1)\n",
    "])\n",
    "\n",
    "biased_model = tf.keras.Sequential([\n",
    "    feature_layer,\n",
    "    layers.Dense(256, activation='relu'),\n",
    "    layers.Dense(256, activation='relu'),\n",
    "    layers.Dense(256, activation='relu'),\n",
    "    layers.Dense(256, activation='relu'),\n",
    "    layers.Dropout(.1),\n",
    "    layers.Dense(1)\n",
    "])\n",
    "\n",
    "model.compile(optimizer='adam',\n",
    "              loss=tf.keras.losses.BinaryCrossentropy(from_logits=True),\n",
    "              metrics=['accuracy'])\n",
    "\n",
    "biased_model.compile(optimizer='adam',\n",
    "              loss=tf.keras.losses.BinaryCrossentropy(from_logits=True),\n",
    "              metrics=['accuracy'])\n",
    "\n",
    "model.fit(train_ds,\n",
    "          validation_data=val_ds,\n",
    "          epochs=100,\n",
    "          verbose=0)\n",
    "\n",
    "\n",
    "biased_model.fit(train_biased_ds,\n",
    "          validation_data=val_biased_ds,\n",
    "          epochs=100,\n",
    "          verbose=0)"
   ],
   "metadata": {
    "collapsed": false,
    "pycharm": {
     "name": "#%%\n"
    }
   }
  },
  {
   "cell_type": "markdown",
   "source": [
    "### Evaluate Raw Data Model"
   ],
   "metadata": {
    "collapsed": false,
    "pycharm": {
     "name": "#%% md\n"
    }
   }
  },
  {
   "cell_type": "code",
   "source": [
    "loss, accuracy = model.evaluate(test_ds)\n",
    "print(\"Unbiased Accuracy Standard\", accuracy)\n",
    "loss, accuracy = model.evaluate(attrited_customers_ds)\n",
    "print(\"Unbiased Accuracy Attrited\", accuracy)"
   ],
   "metadata": {
    "collapsed": false,
    "pycharm": {
     "name": "#%%\n"
    }
   },
   "execution_count": 211,
   "outputs": [
    {
     "name": "stdout",
     "output_type": "stream",
     "text": [
      "1/1 [==============================] - 0s 2ms/step - loss: 0.3397 - accuracy: 0.8529\b\b\b\b\b\b\b\b\b\b\b\b\b\b\b\b\b\b\b\b\b\b\b\b\b\b\b\b\b\b\b\b\b\b\b\b\b\b\b\b\b\b\b\b\b\b\b\b\b\b\b\b\b\b\b\b\b\b\b\b\b\b\b\b\b\b\b\b\b\b\b\b\b\b\b\b\n",
      "Unbiased Accuracy Standard 0.8529121279716492\n",
      "WARNING:tensorflow:Layers in a Sequential model should only have a single input tensor, but we receive a <class 'dict'> input: {'Customer_Age': <tf.Tensor 'ExpandDims_6:0' shape=(None, 1) dtype=int64>, 'Gender': <tf.Tensor 'ExpandDims_9:0' shape=(None, 1) dtype=string>, 'Dependent_count': <tf.Tensor 'ExpandDims_7:0' shape=(None, 1) dtype=int64>, 'Education_Level': <tf.Tensor 'ExpandDims_8:0' shape=(None, 1) dtype=string>, 'Marital_Status': <tf.Tensor 'ExpandDims_11:0' shape=(None, 1) dtype=string>, 'Income_Category': <tf.Tensor 'ExpandDims_10:0' shape=(None, 1) dtype=string>, 'Card_Category': <tf.Tensor 'ExpandDims_3:0' shape=(None, 1) dtype=string>, 'Months_on_book': <tf.Tensor 'ExpandDims_13:0' shape=(None, 1) dtype=int64>, 'Total_Relationship_Count': <tf.Tensor 'ExpandDims_16:0' shape=(None, 1) dtype=int64>, 'Months_Inactive_12_mon': <tf.Tensor 'ExpandDims_12:0' shape=(None, 1) dtype=int64>, 'Contacts_Count_12_mon': <tf.Tensor 'ExpandDims_4:0' shape=(None, 1) dtype=int64>, 'Credit_Limit': <tf.Tensor 'ExpandDims_5:0' shape=(None, 1) dtype=float64>, 'Total_Revolving_Bal': <tf.Tensor 'ExpandDims_17:0' shape=(None, 1) dtype=int64>, 'Avg_Open_To_Buy': <tf.Tensor 'ExpandDims_1:0' shape=(None, 1) dtype=float64>, 'Total_Amt_Chng_Q4_Q1': <tf.Tensor 'ExpandDims_14:0' shape=(None, 1) dtype=float64>, 'Total_Trans_Amt': <tf.Tensor 'ExpandDims_18:0' shape=(None, 1) dtype=int64>, 'Total_Trans_Ct': <tf.Tensor 'ExpandDims_19:0' shape=(None, 1) dtype=int64>, 'Total_Ct_Chng_Q4_Q1': <tf.Tensor 'ExpandDims_15:0' shape=(None, 1) dtype=float64>, 'Avg_Utilization_Ratio': <tf.Tensor 'ExpandDims_2:0' shape=(None, 1) dtype=float64>, 'Attrition_Flag': <tf.Tensor 'ExpandDims:0' shape=(None, 1) dtype=string>}\n",
      "Consider rewriting this model with the Functional API.\n",
      "1/1 [==============================] - 0s 3ms/step - loss: 1.3574 - accuracy: 0.0307\b\b\b\b\b\b\b\b\b\b\b\b\b\b\b\b\b\b\b\b\b\b\b\b\b\b\b\b\b\b\b\b\b\b\b\b\b\b\b\b\b\b\b\b\b\b\b\b\b\b\b\b\b\b\b\b\b\b\b\b\b\b\b\b\b\b\b\b\b\b\b\b\b\b\b\b\n",
      "Unbiased Accuracy Attrited 0.030731407925486565\n"
     ]
    }
   ]
  },
  {
   "cell_type": "markdown",
   "source": [
    "### Evaluate Rebiased Data Model"
   ],
   "metadata": {
    "collapsed": false,
    "pycharm": {
     "name": "#%% md\n"
    }
   }
  },
  {
   "cell_type": "code",
   "execution_count": 212,
   "outputs": [
    {
     "name": "stdout",
     "output_type": "stream",
     "text": [
      "1/1 [==============================] - 0s 3ms/step - loss: 0.5205 - accuracy: 0.8001\b\b\b\b\b\b\b\b\b\b\b\b\b\b\b\b\b\b\b\b\b\b\b\b\b\b\b\b\b\b\b\b\b\b\b\b\b\b\b\b\b\b\b\b\b\b\b\b\b\b\b\b\b\b\b\b\b\b\b\b\b\b\b\b\b\b\b\b\b\b\b\b\b\b\b\b\n",
      "Rebiased Accuracy Standard 0.800098717212677\n",
      "WARNING:tensorflow:Layers in a Sequential model should only have a single input tensor, but we receive a <class 'dict'> input: {'Customer_Age': <tf.Tensor 'ExpandDims_6:0' shape=(None, 1) dtype=int64>, 'Gender': <tf.Tensor 'ExpandDims_9:0' shape=(None, 1) dtype=string>, 'Dependent_count': <tf.Tensor 'ExpandDims_7:0' shape=(None, 1) dtype=int64>, 'Education_Level': <tf.Tensor 'ExpandDims_8:0' shape=(None, 1) dtype=string>, 'Marital_Status': <tf.Tensor 'ExpandDims_11:0' shape=(None, 1) dtype=string>, 'Income_Category': <tf.Tensor 'ExpandDims_10:0' shape=(None, 1) dtype=string>, 'Card_Category': <tf.Tensor 'ExpandDims_3:0' shape=(None, 1) dtype=string>, 'Months_on_book': <tf.Tensor 'ExpandDims_13:0' shape=(None, 1) dtype=int64>, 'Total_Relationship_Count': <tf.Tensor 'ExpandDims_16:0' shape=(None, 1) dtype=int64>, 'Months_Inactive_12_mon': <tf.Tensor 'ExpandDims_12:0' shape=(None, 1) dtype=int64>, 'Contacts_Count_12_mon': <tf.Tensor 'ExpandDims_4:0' shape=(None, 1) dtype=int64>, 'Credit_Limit': <tf.Tensor 'ExpandDims_5:0' shape=(None, 1) dtype=float64>, 'Total_Revolving_Bal': <tf.Tensor 'ExpandDims_17:0' shape=(None, 1) dtype=int64>, 'Avg_Open_To_Buy': <tf.Tensor 'ExpandDims_1:0' shape=(None, 1) dtype=float64>, 'Total_Amt_Chng_Q4_Q1': <tf.Tensor 'ExpandDims_14:0' shape=(None, 1) dtype=float64>, 'Total_Trans_Amt': <tf.Tensor 'ExpandDims_18:0' shape=(None, 1) dtype=int64>, 'Total_Trans_Ct': <tf.Tensor 'ExpandDims_19:0' shape=(None, 1) dtype=int64>, 'Total_Ct_Chng_Q4_Q1': <tf.Tensor 'ExpandDims_15:0' shape=(None, 1) dtype=float64>, 'Avg_Utilization_Ratio': <tf.Tensor 'ExpandDims_2:0' shape=(None, 1) dtype=float64>, 'Attrition_Flag': <tf.Tensor 'ExpandDims:0' shape=(None, 1) dtype=string>}\n",
      "Consider rewriting this model with the Functional API.\n",
      "1/1 [==============================] - 0s 2ms/step - loss: 0.6282 - accuracy: 0.6417\b\b\b\b\b\b\b\b\b\b\b\b\b\b\b\b\b\b\b\b\b\b\b\b\b\b\b\b\b\b\b\b\b\b\b\b\b\b\b\b\b\b\b\b\b\b\b\b\b\b\b\b\b\b\b\b\b\b\b\b\b\b\b\b\b\b\b\b\b\b\b\b\b\b\b\b\n",
      "Rebiased Accuracy Attrited 0.6416717767715454\n"
     ]
    }
   ],
   "source": [
    "loss, accuracy = biased_model.evaluate(test_ds) # test against identical test data\n",
    "print(\"Rebiased Accuracy Standard\", accuracy)\n",
    "loss, accuracy = biased_model.evaluate(attrited_customers_ds)\n",
    "print(\"Rebiased Accuracy Attrited\", accuracy)"
   ],
   "metadata": {
    "collapsed": false,
    "pycharm": {
     "name": "#%%\n"
    }
   }
  }
 ],
 "metadata": {
  "kernelspec": {
   "name": "python3",
   "language": "python",
   "display_name": "Python 3"
  },
  "language_info": {
   "codemirror_mode": {
    "name": "ipython",
    "version": 2
   },
   "file_extension": ".py",
   "mimetype": "text/x-python",
   "name": "python",
   "nbconvert_exporter": "python",
   "pygments_lexer": "ipython2",
   "version": "2.7.6"
  }
 },
 "nbformat": 4,
 "nbformat_minor": 0
}